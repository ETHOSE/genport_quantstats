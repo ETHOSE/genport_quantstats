{
  "nbformat": 4,
  "nbformat_minor": 0,
  "metadata": {
    "colab": {
      "name": "genport-quantstats",
      "provenance": [],
      "authorship_tag": "ABX9TyMNIKaJACXqSDGS6jARzHTG",
      "include_colab_link": true
    },
    "kernelspec": {
      "name": "python3",
      "display_name": "Python 3"
    },
    "language_info": {
      "name": "python"
    }
  },
  "cells": [
    {
      "cell_type": "markdown",
      "metadata": {
        "id": "view-in-github",
        "colab_type": "text"
      },
      "source": [
        "<a href=\"https://colab.research.google.com/github/ETHOSE/genport_quantstats/blob/main/genport_quantstats.ipynb\" target=\"_parent\"><img src=\"https://colab.research.google.com/assets/colab-badge.svg\" alt=\"Open In Colab\"/></a>"
      ]
    },
    {
      "cell_type": "code",
      "metadata": {
        "id": "5phqyVnqUQcO"
      },
      "source": [
        "pip install quantstats"
      ],
      "execution_count": null,
      "outputs": []
    },
    {
      "cell_type": "code",
      "metadata": {
        "id": "DV8JnSNkUkJw"
      },
      "source": [
        "%matplotlib inline\n",
        "import quantstats as qs\n",
        "from google.colab import files\n",
        "import pandas as pd\n",
        "\n",
        "# 파일 업로드\n",
        "uploaded = files.upload()\n",
        "\n",
        "for fn in uploaded.keys():\n",
        "  print('User uploaded file \"{name}\" with length {length} bytes'.format(\n",
        "      name=fn, length=len(uploaded[fn])))\n",
        "\n",
        "# 데이터 전처리\n",
        "df = pd.read_csv(fn)\n",
        "df = df[['날짜', '일일수익률']]\n",
        "df['날짜'] = pd.to_datetime(df['날짜'], format='%Y%m%d')\n",
        "df['일일수익률'] = df['일일수익률'] / 100\n",
        "df = df.set_index('날짜')\n",
        "df = df.squeeze()   # DataFrame을 Series로\n",
        "\n",
        "file_name = fn[:-4] # 확장자 제외 된 파일 이름.\n",
        "\n",
        "qs.reports.html(df, title=file_name, output=f\"/content/{file_name}.html\")"
      ],
      "execution_count": null,
      "outputs": []
    },
    {
      "cell_type": "code",
      "metadata": {
        "id": "6DEu7IqFegwo"
      },
      "source": [
        ""
      ],
      "execution_count": null,
      "outputs": []
    }
  ]
}